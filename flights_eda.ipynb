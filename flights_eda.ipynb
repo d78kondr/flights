{
  "nbformat": 4,
  "nbformat_minor": 0,
  "metadata": {
    "kernelspec": {
      "display_name": "Python 3",
      "language": "python",
      "name": "python3"
    },
    "language_info": {
      "codemirror_mode": {
        "name": "ipython",
        "version": 3
      },
      "file_extension": ".py",
      "mimetype": "text/x-python",
      "name": "python",
      "nbconvert_exporter": "python",
      "pygments_lexer": "ipython3",
      "version": "3.6.7"
    },
    "colab": {
      "name": "flights_eda.ipynb",
      "provenance": [],
      "include_colab_link": true
    }
  },
  "cells": [
    {
      "cell_type": "markdown",
      "metadata": {
        "id": "view-in-github",
        "colab_type": "text"
      },
      "source": [
        "<a href=\"https://colab.research.google.com/github/d78kondr/flights/blob/master/flights_eda.ipynb\" target=\"_parent\"><img src=\"https://colab.research.google.com/assets/colab-badge.svg\" alt=\"Open In Colab\"/></a>"
      ]
    },
    {
      "cell_type": "markdown",
      "metadata": {
        "id": "pzXx1XbGMPbg",
        "colab_type": "text"
      },
      "source": [
        "# Flight Delays Exploratory Data Analysis"
      ]
    },
    {
      "cell_type": "code",
      "metadata": {
        "id": "T8mzVzKrMPbl",
        "colab_type": "code",
        "colab": {}
      },
      "source": [
        "import numpy as np\n",
        "import pandas as pd\n",
        "#import datetime\n",
        "import matplotlib.pyplot as plt\n",
        "import seaborn as sns\n",
        "sns.set()"
      ],
      "execution_count": 0,
      "outputs": []
    },
    {
      "cell_type": "code",
      "metadata": {
        "id": "uaMpHJO4MPbu",
        "colab_type": "code",
        "colab": {}
      },
      "source": [
        "#data_path = 'https://github.com/d78kondr/flights/blob/master/schedule_dataset.xlsx'\n",
        "#df = pd.read_excel(data_path)"
      ],
      "execution_count": 0,
      "outputs": []
    },
    {
      "cell_type": "code",
      "metadata": {
        "id": "YVOoVbg8PuSw",
        "colab_type": "code",
        "colab": {
          "resources": {
            "http://localhost:8080/nbextensions/google.colab/files.js": {
              "data": "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",
              "ok": true,
              "headers": [
                [
                  "content-type",
                  "application/javascript"
                ]
              ],
              "status": 200,
              "status_text": "OK"
            }
          },
          "base_uri": "https://localhost:8080/",
          "height": 71
        },
        "outputId": "80a0a6c7-eba4-4884-ad15-dee399de8157"
      },
      "source": [
        "from google.colab import files\n",
        "uploaded = files.upload()"
      ],
      "execution_count": 5,
      "outputs": [
        {
          "output_type": "display_data",
          "data": {
            "text/html": [
              "\n",
              "     <input type=\"file\" id=\"files-1fd242df-c9c5-4b12-ad2b-c5cfad8564a1\" name=\"files[]\" multiple disabled />\n",
              "     <output id=\"result-1fd242df-c9c5-4b12-ad2b-c5cfad8564a1\">\n",
              "      Upload widget is only available when the cell has been executed in the\n",
              "      current browser session. Please rerun this cell to enable.\n",
              "      </output>\n",
              "      <script src=\"/nbextensions/google.colab/files.js\"></script> "
            ],
            "text/plain": [
              "<IPython.core.display.HTML object>"
            ]
          },
          "metadata": {
            "tags": []
          }
        },
        {
          "output_type": "stream",
          "text": [
            "Saving schedule_dataset.xlsx to schedule_dataset.xlsx\n"
          ],
          "name": "stdout"
        }
      ]
    },
    {
      "cell_type": "code",
      "metadata": {
        "id": "Acv1YjW8QM7w",
        "colab_type": "code",
        "colab": {}
      },
      "source": [
        "import io\n",
        "df = pd.read_excel(io.BytesIO(uploaded['schedule_dataset.xlsx']))"
      ],
      "execution_count": 0,
      "outputs": []
    },
    {
      "cell_type": "code",
      "metadata": {
        "id": "KwALd9onMPb2",
        "colab_type": "code",
        "colab": {
          "base_uri": "https://localhost:8080/",
          "height": 86
        },
        "outputId": "0121d95a-66c5-4b95-dc3a-6950184e6a86"
      },
      "source": [
        "df.columns"
      ],
      "execution_count": 7,
      "outputs": [
        {
          "output_type": "execute_result",
          "data": {
            "text/plain": [
              "Index(['Дата рейса', 'Рейс', 'А/П отправл', 'А/П прибыт', 'Номер ВС',\n",
              "       'Время отправления по расписанию', 'Время отправления фактическое',\n",
              "       'Время прибытия по расписанию', 'Время прибытия фактическое'],\n",
              "      dtype='object')"
            ]
          },
          "metadata": {
            "tags": []
          },
          "execution_count": 7
        }
      ]
    },
    {
      "cell_type": "code",
      "metadata": {
        "id": "TRSiEB0iMPb-",
        "colab_type": "code",
        "colab": {}
      },
      "source": [
        "new_col_names=['date','flight','dep','dst','number','dep_time_sched','dep_time_fact','dst_time_sched','dst_time_fact']\n",
        "df.columns = new_col_names"
      ],
      "execution_count": 0,
      "outputs": []
    },
    {
      "cell_type": "code",
      "metadata": {
        "id": "mTNZn6YgMPcF",
        "colab_type": "code",
        "colab": {
          "base_uri": "https://localhost:8080/",
          "height": 606
        },
        "outputId": "b1005b7f-53fd-4d87-9d16-023c0a45fe85"
      },
      "source": [
        "df.info()\n",
        "print(df.describe())\n",
        "df.head()"
      ],
      "execution_count": 9,
      "outputs": [
        {
          "output_type": "stream",
          "text": [
            "<class 'pandas.core.frame.DataFrame'>\n",
            "RangeIndex: 139732 entries, 0 to 139731\n",
            "Data columns (total 9 columns):\n",
            "date              139732 non-null datetime64[ns]\n",
            "flight            139732 non-null int64\n",
            "dep               139732 non-null object\n",
            "dst               139732 non-null object\n",
            "number            139732 non-null int64\n",
            "dep_time_sched    139732 non-null datetime64[ns]\n",
            "dep_time_fact     139732 non-null datetime64[ns]\n",
            "dst_time_sched    139732 non-null datetime64[ns]\n",
            "dst_time_fact     139732 non-null datetime64[ns]\n",
            "dtypes: datetime64[ns](5), int64(2), object(2)\n",
            "memory usage: 9.6+ MB\n",
            "              flight         number\n",
            "count  139732.000000  139732.000000\n",
            "mean      413.544829     112.266675\n",
            "std       253.934144      67.869558\n",
            "min         1.000000       1.000000\n",
            "25%       202.000000      54.000000\n",
            "50%       398.000000     107.000000\n",
            "75%       599.000000     172.000000\n",
            "max      1074.000000     246.000000\n"
          ],
          "name": "stdout"
        },
        {
          "output_type": "execute_result",
          "data": {
            "text/html": [
              "<div>\n",
              "<style scoped>\n",
              "    .dataframe tbody tr th:only-of-type {\n",
              "        vertical-align: middle;\n",
              "    }\n",
              "\n",
              "    .dataframe tbody tr th {\n",
              "        vertical-align: top;\n",
              "    }\n",
              "\n",
              "    .dataframe thead th {\n",
              "        text-align: right;\n",
              "    }\n",
              "</style>\n",
              "<table border=\"1\" class=\"dataframe\">\n",
              "  <thead>\n",
              "    <tr style=\"text-align: right;\">\n",
              "      <th></th>\n",
              "      <th>date</th>\n",
              "      <th>flight</th>\n",
              "      <th>dep</th>\n",
              "      <th>dst</th>\n",
              "      <th>number</th>\n",
              "      <th>dep_time_sched</th>\n",
              "      <th>dep_time_fact</th>\n",
              "      <th>dst_time_sched</th>\n",
              "      <th>dst_time_fact</th>\n",
              "    </tr>\n",
              "  </thead>\n",
              "  <tbody>\n",
              "    <tr>\n",
              "      <th>0</th>\n",
              "      <td>2018-03-01</td>\n",
              "      <td>1</td>\n",
              "      <td>MOW</td>\n",
              "      <td>ARH</td>\n",
              "      <td>1</td>\n",
              "      <td>2018-03-01 00:05:00</td>\n",
              "      <td>2018-02-28 23:48:00</td>\n",
              "      <td>2018-03-01 02:00:00</td>\n",
              "      <td>2018-03-01 01:48:00</td>\n",
              "    </tr>\n",
              "    <tr>\n",
              "      <th>1</th>\n",
              "      <td>2018-03-01</td>\n",
              "      <td>2</td>\n",
              "      <td>MOW</td>\n",
              "      <td>EGO</td>\n",
              "      <td>2</td>\n",
              "      <td>2018-03-01 00:05:00</td>\n",
              "      <td>2018-03-01 00:00:00</td>\n",
              "      <td>2018-03-01 01:30:00</td>\n",
              "      <td>2018-03-01 01:55:00</td>\n",
              "    </tr>\n",
              "    <tr>\n",
              "      <th>2</th>\n",
              "      <td>2018-03-01</td>\n",
              "      <td>3</td>\n",
              "      <td>MOW</td>\n",
              "      <td>AKX</td>\n",
              "      <td>3</td>\n",
              "      <td>2018-03-01 00:15:00</td>\n",
              "      <td>2018-03-01 00:14:00</td>\n",
              "      <td>2018-03-01 02:40:00</td>\n",
              "      <td>2018-03-01 02:32:00</td>\n",
              "    </tr>\n",
              "    <tr>\n",
              "      <th>3</th>\n",
              "      <td>2018-03-01</td>\n",
              "      <td>4</td>\n",
              "      <td>LED</td>\n",
              "      <td>MOW</td>\n",
              "      <td>4</td>\n",
              "      <td>2018-03-01 00:20:00</td>\n",
              "      <td>2018-03-01 00:11:00</td>\n",
              "      <td>2018-03-01 01:35:00</td>\n",
              "      <td>2018-03-01 01:39:00</td>\n",
              "    </tr>\n",
              "    <tr>\n",
              "      <th>4</th>\n",
              "      <td>2018-03-01</td>\n",
              "      <td>5</td>\n",
              "      <td>MOW</td>\n",
              "      <td>KRR</td>\n",
              "      <td>5</td>\n",
              "      <td>2018-03-01 00:25:00</td>\n",
              "      <td>2018-03-01 00:21:00</td>\n",
              "      <td>2018-03-01 02:40:00</td>\n",
              "      <td>2018-03-01 02:41:00</td>\n",
              "    </tr>\n",
              "  </tbody>\n",
              "</table>\n",
              "</div>"
            ],
            "text/plain": [
              "        date  flight  ...      dst_time_sched       dst_time_fact\n",
              "0 2018-03-01       1  ... 2018-03-01 02:00:00 2018-03-01 01:48:00\n",
              "1 2018-03-01       2  ... 2018-03-01 01:30:00 2018-03-01 01:55:00\n",
              "2 2018-03-01       3  ... 2018-03-01 02:40:00 2018-03-01 02:32:00\n",
              "3 2018-03-01       4  ... 2018-03-01 01:35:00 2018-03-01 01:39:00\n",
              "4 2018-03-01       5  ... 2018-03-01 02:40:00 2018-03-01 02:41:00\n",
              "\n",
              "[5 rows x 9 columns]"
            ]
          },
          "metadata": {
            "tags": []
          },
          "execution_count": 9
        }
      ]
    },
    {
      "cell_type": "code",
      "metadata": {
        "id": "EvuX8LIaMPcL",
        "colab_type": "code",
        "colab": {
          "base_uri": "https://localhost:8080/",
          "height": 54
        },
        "outputId": "fd35ff49-c945-481c-9947-8c3fa48c2e0e"
      },
      "source": [
        "unique_dep = set(df['dep'].unique()) # unique depature airports\n",
        "print(len(unique_dep), unique_dep)"
      ],
      "execution_count": 10,
      "outputs": [
        {
          "output_type": "stream",
          "text": [
            "157 {'HKG', 'BEG', 'FCO', 'ARH', 'FRU', 'ABA', 'GDX', 'EVN', 'CAI', 'ZRH', 'LED', 'TLL', 'VVO', 'MSQ', 'ARN', 'BUD', 'FRA', 'SKD', 'HER', 'GDZ', 'EGO', 'KRR', 'OVB', 'STW', 'SLY', 'PKC', 'YKS', 'KZN', 'STR', 'BEY', 'ZIA', 'HEL', 'LCA', 'TFS', 'IAD', 'KZO', 'LGW', 'OSL', 'SPU', 'NOZ', 'HMA', 'IAR', 'ATH', 'ROV', 'REN', 'AGP', 'DEL', 'AER', 'VKO', 'KUN', 'ICN', 'NCE', 'RTW', 'VRN', 'ZAG', 'NRT', 'MIA', 'KGD', 'MXP', 'KHV', 'ALA', 'UFA', 'SAW', 'CEK', 'NBC', 'SVX', 'SOF', 'CAN', 'PRG', 'GYD', 'ASF', 'PVG', 'MQF', 'SCO', 'BLQ', 'NAP', 'TGD', 'LTN', 'BAX', 'SCW', 'PEK', 'IKA', 'VLC', 'IST', 'TSE', 'SXF', 'AYT', 'PEE', 'LYS', 'KSN', 'GVA', 'HAM', 'NJC', 'VNO', 'PLQ', 'HAJ', 'OTP', 'VIE', 'LIS', 'AAQ', 'GNB', 'UUS', 'TAS', 'SIP', 'BRU', 'LHR', 'VOZ', 'HAV', 'TLV', 'RIX', 'TBS', 'ALC', 'GRV', 'MRV', 'HKT', 'DRS', 'OMS', 'MUC', 'KIV', 'SGC', 'SKG', 'JFK', 'CDG', 'KGF', 'DUS', 'MMK', 'IKT', 'HAN', 'WAW', 'BKK', 'SZG', 'BOJ', 'NUX', 'AMS', 'GUW', 'AKX', 'MLE', 'ULN', 'DXB', 'TOF', 'MAD', 'GOJ', 'PED', 'KEJ', 'MOW', 'TJM', 'SKX', 'CPH', 'BCN', 'KUF', 'CIT', 'KJA', 'SGN', 'VCE', 'LAX', 'VOG', 'TIV'}\n"
          ],
          "name": "stdout"
        }
      ]
    },
    {
      "cell_type": "code",
      "metadata": {
        "id": "pILQpQceMPcP",
        "colab_type": "code",
        "colab": {
          "base_uri": "https://localhost:8080/",
          "height": 54
        },
        "outputId": "80c9abe2-bcd5-42b2-fc7d-66557baf482e"
      },
      "source": [
        "unique_dst = set(df['dst'].unique()) # unique destination airports\n",
        "print(len(unique_dst), unique_dst)"
      ],
      "execution_count": 11,
      "outputs": [
        {
          "output_type": "stream",
          "text": [
            "157 {'HKG', 'BEG', 'FCO', 'ARH', 'FRU', 'ABA', 'GDX', 'EVN', 'CAI', 'ZRH', 'LED', 'TLL', 'VVO', 'MSQ', 'ARN', 'BUD', 'FRA', 'SKD', 'HER', 'GDZ', 'EGO', 'KRR', 'OVB', 'STW', 'SLY', 'PKC', 'KZN', 'YKS', 'STR', 'BEY', 'ZIA', 'HEL', 'LCA', 'TFS', 'IAD', 'KZO', 'LGW', 'OSL', 'SPU', 'NOZ', 'HMA', 'IAR', 'ATH', 'ROV', 'REN', 'DEL', 'AER', 'VKO', 'KUN', 'ICN', 'NCE', 'RTW', 'VRN', 'ZAG', 'NRT', 'MIA', 'KGD', 'MXP', 'KHV', 'ALA', 'UFA', 'SAW', 'CEK', 'NBC', 'SVX', 'SOF', 'CAN', 'PRG', 'GYD', 'ASF', 'PVG', 'MQF', 'SCO', 'BLQ', 'NAP', 'LTN', 'BAX', 'SCW', 'PEK', 'IKA', 'VLC', 'IST', 'TSE', 'SXF', 'AYT', 'PEE', 'LYS', 'GVA', 'KSN', 'HAM', 'NJC', 'VNO', 'PLQ', 'HAJ', 'OTP', 'VIE', 'LIS', 'AAQ', 'GNB', 'UUS', 'TAS', 'SIP', 'BRU', 'LHR', 'VOZ', 'HAV', 'TLV', 'RIX', 'TBS', 'ALC', 'GRV', 'MRV', 'HKT', 'DRS', 'OMS', 'MUC', 'KIV', 'SGC', 'SKG', 'JFK', 'CDG', 'KGF', 'DUS', 'MMK', 'DME', 'IKT', 'HAN', 'WAW', 'LAX', 'BKK', 'SZG', 'BOJ', 'NUX', 'AMS', 'GUW', 'AKX', 'MLE', 'ULN', 'DXB', 'TOF', 'MAD', 'GOJ', 'PED', 'KEJ', 'MOW', 'TJM', 'SKX', 'CPH', 'BCN', 'KUF', 'CIT', 'KJA', 'SGN', 'VCE', 'AGP', 'VOG', 'TIV'}\n"
          ],
          "name": "stdout"
        }
      ]
    },
    {
      "cell_type": "code",
      "metadata": {
        "id": "o7EEhrtiMPcW",
        "colab_type": "code",
        "colab": {
          "base_uri": "https://localhost:8080/",
          "height": 86
        },
        "outputId": "aad43848-b909-44a8-b74c-7ae90f13b6a1"
      },
      "source": [
        "# difference  between depature and destination airport ids\n",
        "dep_dst_diff = unique_dep.symmetric_difference(unique_dst) \n",
        "print(\"Depature / Destination Difference: \",dep_dst_diff)\n",
        "print(\"In depatures: \",unique_dep.intersection(dep_dst_diff))\n",
        "print(\"In destinations: \",unique_dst.intersection(dep_dst_diff))\n",
        "'TGD' in unique_dep, 'DME' in unique_dep, 'TGD' in unique_dst, 'DME' in unique_dst"
      ],
      "execution_count": 12,
      "outputs": [
        {
          "output_type": "stream",
          "text": [
            "Depature / Destination Difference:  {'TGD', 'DME'}\n",
            "In depatures:  {'TGD'}\n",
            "In destinations:  {'DME'}\n"
          ],
          "name": "stdout"
        },
        {
          "output_type": "execute_result",
          "data": {
            "text/plain": [
              "(True, False, False, True)"
            ]
          },
          "metadata": {
            "tags": []
          },
          "execution_count": 12
        }
      ]
    },
    {
      "cell_type": "code",
      "metadata": {
        "id": "6ECk58MTMPcb",
        "colab_type": "code",
        "colab": {
          "base_uri": "https://localhost:8080/",
          "height": 34
        },
        "outputId": "a2212c70-8826-4c28-d4b5-932e1c1ef239"
      },
      "source": [
        "df['date'].min(), df['date'].max() # interval in dates"
      ],
      "execution_count": 13,
      "outputs": [
        {
          "output_type": "execute_result",
          "data": {
            "text/plain": [
              "(Timestamp('2018-03-01 00:00:00'), Timestamp('2018-09-03 00:00:00'))"
            ]
          },
          "metadata": {
            "tags": []
          },
          "execution_count": 13
        }
      ]
    },
    {
      "cell_type": "code",
      "metadata": {
        "id": "61GKJpnrMPcg",
        "colab_type": "code",
        "colab": {
          "base_uri": "https://localhost:8080/",
          "height": 34
        },
        "outputId": "fd610fa7-9f96-47f1-bbf0-10c31599b373"
      },
      "source": [
        "delta_min = pd.Timedelta(minutes=1) \n",
        "delta_min"
      ],
      "execution_count": 14,
      "outputs": [
        {
          "output_type": "execute_result",
          "data": {
            "text/plain": [
              "Timedelta('0 days 00:01:00')"
            ]
          },
          "metadata": {
            "tags": []
          },
          "execution_count": 14
        }
      ]
    },
    {
      "cell_type": "code",
      "metadata": {
        "id": "vhlR5KVpMPcm",
        "colab_type": "code",
        "colab": {
          "base_uri": "https://localhost:8080/",
          "height": 363
        },
        "outputId": "9d9cada1-ca85-48ca-e9da-4f3dda09f9c8"
      },
      "source": [
        "df1 = df.head(10)\n",
        "df1"
      ],
      "execution_count": 15,
      "outputs": [
        {
          "output_type": "execute_result",
          "data": {
            "text/html": [
              "<div>\n",
              "<style scoped>\n",
              "    .dataframe tbody tr th:only-of-type {\n",
              "        vertical-align: middle;\n",
              "    }\n",
              "\n",
              "    .dataframe tbody tr th {\n",
              "        vertical-align: top;\n",
              "    }\n",
              "\n",
              "    .dataframe thead th {\n",
              "        text-align: right;\n",
              "    }\n",
              "</style>\n",
              "<table border=\"1\" class=\"dataframe\">\n",
              "  <thead>\n",
              "    <tr style=\"text-align: right;\">\n",
              "      <th></th>\n",
              "      <th>date</th>\n",
              "      <th>flight</th>\n",
              "      <th>dep</th>\n",
              "      <th>dst</th>\n",
              "      <th>number</th>\n",
              "      <th>dep_time_sched</th>\n",
              "      <th>dep_time_fact</th>\n",
              "      <th>dst_time_sched</th>\n",
              "      <th>dst_time_fact</th>\n",
              "    </tr>\n",
              "  </thead>\n",
              "  <tbody>\n",
              "    <tr>\n",
              "      <th>0</th>\n",
              "      <td>2018-03-01</td>\n",
              "      <td>1</td>\n",
              "      <td>MOW</td>\n",
              "      <td>ARH</td>\n",
              "      <td>1</td>\n",
              "      <td>2018-03-01 00:05:00</td>\n",
              "      <td>2018-02-28 23:48:00</td>\n",
              "      <td>2018-03-01 02:00:00</td>\n",
              "      <td>2018-03-01 01:48:00</td>\n",
              "    </tr>\n",
              "    <tr>\n",
              "      <th>1</th>\n",
              "      <td>2018-03-01</td>\n",
              "      <td>2</td>\n",
              "      <td>MOW</td>\n",
              "      <td>EGO</td>\n",
              "      <td>2</td>\n",
              "      <td>2018-03-01 00:05:00</td>\n",
              "      <td>2018-03-01 00:00:00</td>\n",
              "      <td>2018-03-01 01:30:00</td>\n",
              "      <td>2018-03-01 01:55:00</td>\n",
              "    </tr>\n",
              "    <tr>\n",
              "      <th>2</th>\n",
              "      <td>2018-03-01</td>\n",
              "      <td>3</td>\n",
              "      <td>MOW</td>\n",
              "      <td>AKX</td>\n",
              "      <td>3</td>\n",
              "      <td>2018-03-01 00:15:00</td>\n",
              "      <td>2018-03-01 00:14:00</td>\n",
              "      <td>2018-03-01 02:40:00</td>\n",
              "      <td>2018-03-01 02:32:00</td>\n",
              "    </tr>\n",
              "    <tr>\n",
              "      <th>3</th>\n",
              "      <td>2018-03-01</td>\n",
              "      <td>4</td>\n",
              "      <td>LED</td>\n",
              "      <td>MOW</td>\n",
              "      <td>4</td>\n",
              "      <td>2018-03-01 00:20:00</td>\n",
              "      <td>2018-03-01 00:11:00</td>\n",
              "      <td>2018-03-01 01:35:00</td>\n",
              "      <td>2018-03-01 01:39:00</td>\n",
              "    </tr>\n",
              "    <tr>\n",
              "      <th>4</th>\n",
              "      <td>2018-03-01</td>\n",
              "      <td>5</td>\n",
              "      <td>MOW</td>\n",
              "      <td>KRR</td>\n",
              "      <td>5</td>\n",
              "      <td>2018-03-01 00:25:00</td>\n",
              "      <td>2018-03-01 00:21:00</td>\n",
              "      <td>2018-03-01 02:40:00</td>\n",
              "      <td>2018-03-01 02:41:00</td>\n",
              "    </tr>\n",
              "    <tr>\n",
              "      <th>5</th>\n",
              "      <td>2018-03-01</td>\n",
              "      <td>6</td>\n",
              "      <td>FRA</td>\n",
              "      <td>MOW</td>\n",
              "      <td>6</td>\n",
              "      <td>2018-03-01 00:25:00</td>\n",
              "      <td>2018-03-01 00:20:00</td>\n",
              "      <td>2018-03-01 03:25:00</td>\n",
              "      <td>2018-03-01 03:23:00</td>\n",
              "    </tr>\n",
              "    <tr>\n",
              "      <th>6</th>\n",
              "      <td>2018-03-01</td>\n",
              "      <td>7</td>\n",
              "      <td>AMS</td>\n",
              "      <td>MOW</td>\n",
              "      <td>7</td>\n",
              "      <td>2018-03-01 00:35:00</td>\n",
              "      <td>2018-03-01 00:38:00</td>\n",
              "      <td>2018-03-01 03:50:00</td>\n",
              "      <td>2018-03-01 03:57:00</td>\n",
              "    </tr>\n",
              "    <tr>\n",
              "      <th>7</th>\n",
              "      <td>2018-03-01</td>\n",
              "      <td>8</td>\n",
              "      <td>ZRH</td>\n",
              "      <td>MOW</td>\n",
              "      <td>8</td>\n",
              "      <td>2018-03-01 00:35:00</td>\n",
              "      <td>2018-03-01 00:24:00</td>\n",
              "      <td>2018-03-01 03:45:00</td>\n",
              "      <td>2018-03-01 03:34:00</td>\n",
              "    </tr>\n",
              "    <tr>\n",
              "      <th>8</th>\n",
              "      <td>2018-03-01</td>\n",
              "      <td>9</td>\n",
              "      <td>MOW</td>\n",
              "      <td>CEK</td>\n",
              "      <td>9</td>\n",
              "      <td>2018-03-01 00:40:00</td>\n",
              "      <td>2018-03-01 00:35:00</td>\n",
              "      <td>2018-03-01 03:05:00</td>\n",
              "      <td>2018-03-01 03:04:00</td>\n",
              "    </tr>\n",
              "    <tr>\n",
              "      <th>9</th>\n",
              "      <td>2018-03-01</td>\n",
              "      <td>10</td>\n",
              "      <td>MOW</td>\n",
              "      <td>SVX</td>\n",
              "      <td>10</td>\n",
              "      <td>2018-03-01 00:45:00</td>\n",
              "      <td>2018-03-01 00:36:00</td>\n",
              "      <td>2018-03-01 03:05:00</td>\n",
              "      <td>2018-03-01 03:15:00</td>\n",
              "    </tr>\n",
              "  </tbody>\n",
              "</table>\n",
              "</div>"
            ],
            "text/plain": [
              "        date  flight  ...      dst_time_sched       dst_time_fact\n",
              "0 2018-03-01       1  ... 2018-03-01 02:00:00 2018-03-01 01:48:00\n",
              "1 2018-03-01       2  ... 2018-03-01 01:30:00 2018-03-01 01:55:00\n",
              "2 2018-03-01       3  ... 2018-03-01 02:40:00 2018-03-01 02:32:00\n",
              "3 2018-03-01       4  ... 2018-03-01 01:35:00 2018-03-01 01:39:00\n",
              "4 2018-03-01       5  ... 2018-03-01 02:40:00 2018-03-01 02:41:00\n",
              "5 2018-03-01       6  ... 2018-03-01 03:25:00 2018-03-01 03:23:00\n",
              "6 2018-03-01       7  ... 2018-03-01 03:50:00 2018-03-01 03:57:00\n",
              "7 2018-03-01       8  ... 2018-03-01 03:45:00 2018-03-01 03:34:00\n",
              "8 2018-03-01       9  ... 2018-03-01 03:05:00 2018-03-01 03:04:00\n",
              "9 2018-03-01      10  ... 2018-03-01 03:05:00 2018-03-01 03:15:00\n",
              "\n",
              "[10 rows x 9 columns]"
            ]
          },
          "metadata": {
            "tags": []
          },
          "execution_count": 15
        }
      ]
    },
    {
      "cell_type": "code",
      "metadata": {
        "id": "-pRXjRKsMPcs",
        "colab_type": "code",
        "colab": {}
      },
      "source": [
        "# Add column with difference between factual and scheduled depature times\n",
        "df1 = df1.assign(\n",
        "    dep_diff = df1.apply(lambda row: (row['dep_time_fact'] - row['dep_time_sched']) / delta_min, axis = 1))\n",
        "\n",
        "# Add column with difference between factual and scheduled destination arrival times\n",
        "df1 = df1.assign(\n",
        "    dst_diff = df1.apply(lambda row: (row['dst_time_fact'] - row['dst_time_sched']) / delta_min, axis = 1))"
      ],
      "execution_count": 0,
      "outputs": []
    },
    {
      "cell_type": "code",
      "metadata": {
        "id": "V2-87YLyMPcx",
        "colab_type": "code",
        "colab": {
          "base_uri": "https://localhost:8080/",
          "height": 363
        },
        "outputId": "ceb9f470-514c-4e1a-9d12-f6250382ab70"
      },
      "source": [
        "df1"
      ],
      "execution_count": 17,
      "outputs": [
        {
          "output_type": "execute_result",
          "data": {
            "text/html": [
              "<div>\n",
              "<style scoped>\n",
              "    .dataframe tbody tr th:only-of-type {\n",
              "        vertical-align: middle;\n",
              "    }\n",
              "\n",
              "    .dataframe tbody tr th {\n",
              "        vertical-align: top;\n",
              "    }\n",
              "\n",
              "    .dataframe thead th {\n",
              "        text-align: right;\n",
              "    }\n",
              "</style>\n",
              "<table border=\"1\" class=\"dataframe\">\n",
              "  <thead>\n",
              "    <tr style=\"text-align: right;\">\n",
              "      <th></th>\n",
              "      <th>date</th>\n",
              "      <th>flight</th>\n",
              "      <th>dep</th>\n",
              "      <th>dst</th>\n",
              "      <th>number</th>\n",
              "      <th>dep_time_sched</th>\n",
              "      <th>dep_time_fact</th>\n",
              "      <th>dst_time_sched</th>\n",
              "      <th>dst_time_fact</th>\n",
              "      <th>dep_diff</th>\n",
              "      <th>dst_diff</th>\n",
              "    </tr>\n",
              "  </thead>\n",
              "  <tbody>\n",
              "    <tr>\n",
              "      <th>0</th>\n",
              "      <td>2018-03-01</td>\n",
              "      <td>1</td>\n",
              "      <td>MOW</td>\n",
              "      <td>ARH</td>\n",
              "      <td>1</td>\n",
              "      <td>2018-03-01 00:05:00</td>\n",
              "      <td>2018-02-28 23:48:00</td>\n",
              "      <td>2018-03-01 02:00:00</td>\n",
              "      <td>2018-03-01 01:48:00</td>\n",
              "      <td>-17.0</td>\n",
              "      <td>-12.0</td>\n",
              "    </tr>\n",
              "    <tr>\n",
              "      <th>1</th>\n",
              "      <td>2018-03-01</td>\n",
              "      <td>2</td>\n",
              "      <td>MOW</td>\n",
              "      <td>EGO</td>\n",
              "      <td>2</td>\n",
              "      <td>2018-03-01 00:05:00</td>\n",
              "      <td>2018-03-01 00:00:00</td>\n",
              "      <td>2018-03-01 01:30:00</td>\n",
              "      <td>2018-03-01 01:55:00</td>\n",
              "      <td>-5.0</td>\n",
              "      <td>25.0</td>\n",
              "    </tr>\n",
              "    <tr>\n",
              "      <th>2</th>\n",
              "      <td>2018-03-01</td>\n",
              "      <td>3</td>\n",
              "      <td>MOW</td>\n",
              "      <td>AKX</td>\n",
              "      <td>3</td>\n",
              "      <td>2018-03-01 00:15:00</td>\n",
              "      <td>2018-03-01 00:14:00</td>\n",
              "      <td>2018-03-01 02:40:00</td>\n",
              "      <td>2018-03-01 02:32:00</td>\n",
              "      <td>-1.0</td>\n",
              "      <td>-8.0</td>\n",
              "    </tr>\n",
              "    <tr>\n",
              "      <th>3</th>\n",
              "      <td>2018-03-01</td>\n",
              "      <td>4</td>\n",
              "      <td>LED</td>\n",
              "      <td>MOW</td>\n",
              "      <td>4</td>\n",
              "      <td>2018-03-01 00:20:00</td>\n",
              "      <td>2018-03-01 00:11:00</td>\n",
              "      <td>2018-03-01 01:35:00</td>\n",
              "      <td>2018-03-01 01:39:00</td>\n",
              "      <td>-9.0</td>\n",
              "      <td>4.0</td>\n",
              "    </tr>\n",
              "    <tr>\n",
              "      <th>4</th>\n",
              "      <td>2018-03-01</td>\n",
              "      <td>5</td>\n",
              "      <td>MOW</td>\n",
              "      <td>KRR</td>\n",
              "      <td>5</td>\n",
              "      <td>2018-03-01 00:25:00</td>\n",
              "      <td>2018-03-01 00:21:00</td>\n",
              "      <td>2018-03-01 02:40:00</td>\n",
              "      <td>2018-03-01 02:41:00</td>\n",
              "      <td>-4.0</td>\n",
              "      <td>1.0</td>\n",
              "    </tr>\n",
              "    <tr>\n",
              "      <th>5</th>\n",
              "      <td>2018-03-01</td>\n",
              "      <td>6</td>\n",
              "      <td>FRA</td>\n",
              "      <td>MOW</td>\n",
              "      <td>6</td>\n",
              "      <td>2018-03-01 00:25:00</td>\n",
              "      <td>2018-03-01 00:20:00</td>\n",
              "      <td>2018-03-01 03:25:00</td>\n",
              "      <td>2018-03-01 03:23:00</td>\n",
              "      <td>-5.0</td>\n",
              "      <td>-2.0</td>\n",
              "    </tr>\n",
              "    <tr>\n",
              "      <th>6</th>\n",
              "      <td>2018-03-01</td>\n",
              "      <td>7</td>\n",
              "      <td>AMS</td>\n",
              "      <td>MOW</td>\n",
              "      <td>7</td>\n",
              "      <td>2018-03-01 00:35:00</td>\n",
              "      <td>2018-03-01 00:38:00</td>\n",
              "      <td>2018-03-01 03:50:00</td>\n",
              "      <td>2018-03-01 03:57:00</td>\n",
              "      <td>3.0</td>\n",
              "      <td>7.0</td>\n",
              "    </tr>\n",
              "    <tr>\n",
              "      <th>7</th>\n",
              "      <td>2018-03-01</td>\n",
              "      <td>8</td>\n",
              "      <td>ZRH</td>\n",
              "      <td>MOW</td>\n",
              "      <td>8</td>\n",
              "      <td>2018-03-01 00:35:00</td>\n",
              "      <td>2018-03-01 00:24:00</td>\n",
              "      <td>2018-03-01 03:45:00</td>\n",
              "      <td>2018-03-01 03:34:00</td>\n",
              "      <td>-11.0</td>\n",
              "      <td>-11.0</td>\n",
              "    </tr>\n",
              "    <tr>\n",
              "      <th>8</th>\n",
              "      <td>2018-03-01</td>\n",
              "      <td>9</td>\n",
              "      <td>MOW</td>\n",
              "      <td>CEK</td>\n",
              "      <td>9</td>\n",
              "      <td>2018-03-01 00:40:00</td>\n",
              "      <td>2018-03-01 00:35:00</td>\n",
              "      <td>2018-03-01 03:05:00</td>\n",
              "      <td>2018-03-01 03:04:00</td>\n",
              "      <td>-5.0</td>\n",
              "      <td>-1.0</td>\n",
              "    </tr>\n",
              "    <tr>\n",
              "      <th>9</th>\n",
              "      <td>2018-03-01</td>\n",
              "      <td>10</td>\n",
              "      <td>MOW</td>\n",
              "      <td>SVX</td>\n",
              "      <td>10</td>\n",
              "      <td>2018-03-01 00:45:00</td>\n",
              "      <td>2018-03-01 00:36:00</td>\n",
              "      <td>2018-03-01 03:05:00</td>\n",
              "      <td>2018-03-01 03:15:00</td>\n",
              "      <td>-9.0</td>\n",
              "      <td>10.0</td>\n",
              "    </tr>\n",
              "  </tbody>\n",
              "</table>\n",
              "</div>"
            ],
            "text/plain": [
              "        date  flight  dep  ...       dst_time_fact  dep_diff dst_diff\n",
              "0 2018-03-01       1  MOW  ... 2018-03-01 01:48:00     -17.0    -12.0\n",
              "1 2018-03-01       2  MOW  ... 2018-03-01 01:55:00      -5.0     25.0\n",
              "2 2018-03-01       3  MOW  ... 2018-03-01 02:32:00      -1.0     -8.0\n",
              "3 2018-03-01       4  LED  ... 2018-03-01 01:39:00      -9.0      4.0\n",
              "4 2018-03-01       5  MOW  ... 2018-03-01 02:41:00      -4.0      1.0\n",
              "5 2018-03-01       6  FRA  ... 2018-03-01 03:23:00      -5.0     -2.0\n",
              "6 2018-03-01       7  AMS  ... 2018-03-01 03:57:00       3.0      7.0\n",
              "7 2018-03-01       8  ZRH  ... 2018-03-01 03:34:00     -11.0    -11.0\n",
              "8 2018-03-01       9  MOW  ... 2018-03-01 03:04:00      -5.0     -1.0\n",
              "9 2018-03-01      10  MOW  ... 2018-03-01 03:15:00      -9.0     10.0\n",
              "\n",
              "[10 rows x 11 columns]"
            ]
          },
          "metadata": {
            "tags": []
          },
          "execution_count": 17
        }
      ]
    },
    {
      "cell_type": "code",
      "metadata": {
        "id": "AjeMc8GSMPc3",
        "colab_type": "code",
        "colab": {
          "base_uri": "https://localhost:8080/",
          "height": 1000
        },
        "outputId": "40b1fc5f-50d1-484f-96e3-20a81a3ff960"
      },
      "source": [
        "df['date'].unique()"
      ],
      "execution_count": 18,
      "outputs": [
        {
          "output_type": "execute_result",
          "data": {
            "text/plain": [
              "array(['2018-03-01T00:00:00.000000000', '2018-03-02T00:00:00.000000000',\n",
              "       '2018-03-03T00:00:00.000000000', '2018-03-04T00:00:00.000000000',\n",
              "       '2018-03-05T00:00:00.000000000', '2018-03-06T00:00:00.000000000',\n",
              "       '2018-03-07T00:00:00.000000000', '2018-03-08T00:00:00.000000000',\n",
              "       '2018-03-09T00:00:00.000000000', '2018-03-10T00:00:00.000000000',\n",
              "       '2018-03-11T00:00:00.000000000', '2018-03-12T00:00:00.000000000',\n",
              "       '2018-03-13T00:00:00.000000000', '2018-03-14T00:00:00.000000000',\n",
              "       '2018-03-15T00:00:00.000000000', '2018-03-16T00:00:00.000000000',\n",
              "       '2018-03-17T00:00:00.000000000', '2018-03-18T00:00:00.000000000',\n",
              "       '2018-03-19T00:00:00.000000000', '2018-03-20T00:00:00.000000000',\n",
              "       '2018-03-21T00:00:00.000000000', '2018-03-22T00:00:00.000000000',\n",
              "       '2018-03-23T00:00:00.000000000', '2018-03-24T00:00:00.000000000',\n",
              "       '2018-03-25T00:00:00.000000000', '2018-03-26T00:00:00.000000000',\n",
              "       '2018-03-27T00:00:00.000000000', '2018-03-28T00:00:00.000000000',\n",
              "       '2018-03-29T00:00:00.000000000', '2018-03-30T00:00:00.000000000',\n",
              "       '2018-03-31T00:00:00.000000000', '2018-04-01T00:00:00.000000000',\n",
              "       '2018-04-02T00:00:00.000000000', '2018-04-03T00:00:00.000000000',\n",
              "       '2018-04-04T00:00:00.000000000', '2018-04-05T00:00:00.000000000',\n",
              "       '2018-04-06T00:00:00.000000000', '2018-04-07T00:00:00.000000000',\n",
              "       '2018-04-08T00:00:00.000000000', '2018-04-09T00:00:00.000000000',\n",
              "       '2018-04-10T00:00:00.000000000', '2018-04-11T00:00:00.000000000',\n",
              "       '2018-04-12T00:00:00.000000000', '2018-04-13T00:00:00.000000000',\n",
              "       '2018-04-14T00:00:00.000000000', '2018-04-15T00:00:00.000000000',\n",
              "       '2018-04-16T00:00:00.000000000', '2018-04-17T00:00:00.000000000',\n",
              "       '2018-04-18T00:00:00.000000000', '2018-04-19T00:00:00.000000000',\n",
              "       '2018-04-20T00:00:00.000000000', '2018-04-21T00:00:00.000000000',\n",
              "       '2018-04-22T00:00:00.000000000', '2018-04-23T00:00:00.000000000',\n",
              "       '2018-04-24T00:00:00.000000000', '2018-04-25T00:00:00.000000000',\n",
              "       '2018-04-26T00:00:00.000000000', '2018-04-27T00:00:00.000000000',\n",
              "       '2018-04-28T00:00:00.000000000', '2018-04-29T00:00:00.000000000',\n",
              "       '2018-04-30T00:00:00.000000000', '2018-05-01T00:00:00.000000000',\n",
              "       '2018-05-02T00:00:00.000000000', '2018-05-03T00:00:00.000000000',\n",
              "       '2018-05-04T00:00:00.000000000', '2018-05-05T00:00:00.000000000',\n",
              "       '2018-05-06T00:00:00.000000000', '2018-05-07T00:00:00.000000000',\n",
              "       '2018-05-08T00:00:00.000000000', '2018-05-09T00:00:00.000000000',\n",
              "       '2018-05-10T00:00:00.000000000', '2018-05-11T00:00:00.000000000',\n",
              "       '2018-05-12T00:00:00.000000000', '2018-05-13T00:00:00.000000000',\n",
              "       '2018-05-14T00:00:00.000000000', '2018-05-15T00:00:00.000000000',\n",
              "       '2018-05-16T00:00:00.000000000', '2018-05-17T00:00:00.000000000',\n",
              "       '2018-05-18T00:00:00.000000000', '2018-05-19T00:00:00.000000000',\n",
              "       '2018-05-20T00:00:00.000000000', '2018-05-21T00:00:00.000000000',\n",
              "       '2018-05-22T00:00:00.000000000', '2018-05-23T00:00:00.000000000',\n",
              "       '2018-05-24T00:00:00.000000000', '2018-05-25T00:00:00.000000000',\n",
              "       '2018-05-26T00:00:00.000000000', '2018-05-27T00:00:00.000000000',\n",
              "       '2018-05-28T00:00:00.000000000', '2018-05-29T00:00:00.000000000',\n",
              "       '2018-05-30T00:00:00.000000000', '2018-05-31T00:00:00.000000000',\n",
              "       '2018-06-01T00:00:00.000000000', '2018-06-02T00:00:00.000000000',\n",
              "       '2018-06-03T00:00:00.000000000', '2018-06-04T00:00:00.000000000',\n",
              "       '2018-06-05T00:00:00.000000000', '2018-06-06T00:00:00.000000000',\n",
              "       '2018-06-07T00:00:00.000000000', '2018-06-08T00:00:00.000000000',\n",
              "       '2018-06-09T00:00:00.000000000', '2018-06-10T00:00:00.000000000',\n",
              "       '2018-06-11T00:00:00.000000000', '2018-06-12T00:00:00.000000000',\n",
              "       '2018-06-13T00:00:00.000000000', '2018-06-14T00:00:00.000000000',\n",
              "       '2018-06-15T00:00:00.000000000', '2018-06-16T00:00:00.000000000',\n",
              "       '2018-06-17T00:00:00.000000000', '2018-06-18T00:00:00.000000000',\n",
              "       '2018-06-19T00:00:00.000000000', '2018-06-20T00:00:00.000000000',\n",
              "       '2018-06-21T00:00:00.000000000', '2018-06-22T00:00:00.000000000',\n",
              "       '2018-06-23T00:00:00.000000000', '2018-06-24T00:00:00.000000000',\n",
              "       '2018-06-25T00:00:00.000000000', '2018-06-26T00:00:00.000000000',\n",
              "       '2018-06-27T00:00:00.000000000', '2018-06-28T00:00:00.000000000',\n",
              "       '2018-06-29T00:00:00.000000000', '2018-06-30T00:00:00.000000000',\n",
              "       '2018-07-01T00:00:00.000000000', '2018-07-02T00:00:00.000000000',\n",
              "       '2018-07-03T00:00:00.000000000', '2018-07-04T00:00:00.000000000',\n",
              "       '2018-07-05T00:00:00.000000000', '2018-07-06T00:00:00.000000000',\n",
              "       '2018-07-07T00:00:00.000000000', '2018-07-08T00:00:00.000000000',\n",
              "       '2018-07-09T00:00:00.000000000', '2018-07-10T00:00:00.000000000',\n",
              "       '2018-07-11T00:00:00.000000000', '2018-07-12T00:00:00.000000000',\n",
              "       '2018-07-13T00:00:00.000000000', '2018-07-14T00:00:00.000000000',\n",
              "       '2018-07-15T00:00:00.000000000', '2018-07-16T00:00:00.000000000',\n",
              "       '2018-07-17T00:00:00.000000000', '2018-07-18T00:00:00.000000000',\n",
              "       '2018-07-19T00:00:00.000000000', '2018-07-20T00:00:00.000000000',\n",
              "       '2018-07-21T00:00:00.000000000', '2018-07-22T00:00:00.000000000',\n",
              "       '2018-07-23T00:00:00.000000000', '2018-07-24T00:00:00.000000000',\n",
              "       '2018-07-25T00:00:00.000000000', '2018-07-26T00:00:00.000000000',\n",
              "       '2018-07-27T00:00:00.000000000', '2018-07-28T00:00:00.000000000',\n",
              "       '2018-07-29T00:00:00.000000000', '2018-07-30T00:00:00.000000000',\n",
              "       '2018-07-31T00:00:00.000000000', '2018-08-01T00:00:00.000000000',\n",
              "       '2018-08-02T00:00:00.000000000', '2018-08-03T00:00:00.000000000',\n",
              "       '2018-08-04T00:00:00.000000000', '2018-08-05T00:00:00.000000000',\n",
              "       '2018-08-06T00:00:00.000000000', '2018-08-07T00:00:00.000000000',\n",
              "       '2018-08-08T00:00:00.000000000', '2018-08-09T00:00:00.000000000',\n",
              "       '2018-08-10T00:00:00.000000000', '2018-08-11T00:00:00.000000000',\n",
              "       '2018-08-12T00:00:00.000000000', '2018-08-13T00:00:00.000000000',\n",
              "       '2018-08-14T00:00:00.000000000', '2018-08-15T00:00:00.000000000',\n",
              "       '2018-08-16T00:00:00.000000000', '2018-08-17T00:00:00.000000000',\n",
              "       '2018-08-18T00:00:00.000000000', '2018-08-19T00:00:00.000000000',\n",
              "       '2018-08-20T00:00:00.000000000', '2018-08-21T00:00:00.000000000',\n",
              "       '2018-08-22T00:00:00.000000000', '2018-08-23T00:00:00.000000000',\n",
              "       '2018-08-24T00:00:00.000000000', '2018-08-25T00:00:00.000000000',\n",
              "       '2018-08-26T00:00:00.000000000', '2018-08-27T00:00:00.000000000',\n",
              "       '2018-08-28T00:00:00.000000000', '2018-08-29T00:00:00.000000000',\n",
              "       '2018-08-30T00:00:00.000000000', '2018-08-31T00:00:00.000000000',\n",
              "       '2018-09-01T00:00:00.000000000', '2018-09-02T00:00:00.000000000',\n",
              "       '2018-09-03T00:00:00.000000000'], dtype='datetime64[ns]')"
            ]
          },
          "metadata": {
            "tags": []
          },
          "execution_count": 18
        }
      ]
    },
    {
      "cell_type": "code",
      "metadata": {
        "id": "aT8Ty6BUMPc7",
        "colab_type": "code",
        "colab": {}
      },
      "source": [
        ""
      ],
      "execution_count": 0,
      "outputs": []
    }
  ]
}